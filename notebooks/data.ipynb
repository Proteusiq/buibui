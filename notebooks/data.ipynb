{
 "cells": [
  {
   "cell_type": "code",
   "execution_count": 1,
   "id": "a91e67ef-ffbd-4e3c-bafa-227827e4f313",
   "metadata": {},
   "outputs": [
    {
     "name": "stdout",
     "output_type": "stream",
     "text": [
      "Author: Prayson W. Daniel\n",
      "\n",
      "Last updated: 2024-09-28T08:50:04.480113+02:00\n",
      "\n",
      "Python implementation: CPython\n",
      "Python version       : 3.12.6\n",
      "IPython version      : 8.27.0\n",
      "\n",
      "pymc   : 5.16.2\n",
      "polars : 1.8.2\n",
      "altair : 5.4.1\n",
      "seaborn: 0.13.2\n",
      "\n",
      "Compiler    : Clang 17.0.6 \n",
      "OS          : Darwin\n",
      "Release     : 23.5.0\n",
      "Machine     : arm64\n",
      "Processor   : arm\n",
      "CPU cores   : 16\n",
      "Architecture: 64bit\n",
      "\n"
     ]
    }
   ],
   "source": [
    "%%capture --no-stdout\n",
    "%reload_ext watermark\n",
    "%watermark -uniz --author \"Prayson W. Daniel\" -vm -p pymc,polars,altair,seaborn"
   ]
  },
  {
   "cell_type": "code",
   "execution_count": 3,
   "id": "c1817a10-39d9-409f-8fe9-8ddbd7a0c35e",
   "metadata": {},
   "outputs": [
    {
     "name": "stdout",
     "output_type": "stream",
     "text": [
      "/Users/pwd/Codes/mpira\n"
     ]
    }
   ],
   "source": [
    "%cd .."
   ]
  },
  {
   "cell_type": "code",
   "execution_count": null,
   "id": "3236051a-b452-4912-ba3c-d4a07d255930",
   "metadata": {},
   "outputs": [],
   "source": [
    "import polars as pl"
   ]
  },
  {
   "cell_type": "code",
   "execution_count": 9,
   "id": "4b955016-4d07-425d-af37-d54c0d6c1f1f",
   "metadata": {},
   "outputs": [
    {
     "name": "stdout",
     "output_type": "stream",
     "text": [
      "total 24\n",
      "-rw-r--r--  1 pwd  staff   3.2K Sep 27 22:31 2122.json\n",
      "-rw-r--r--  1 pwd  staff   3.2K Sep 27 22:30 2223.json\n",
      "-rw-r--r--  1 pwd  staff   3.2K Sep 27 22:30 2324.json\n"
     ]
    }
   ],
   "source": [
    "!ls -lh data"
   ]
  },
  {
   "cell_type": "code",
   "execution_count": 25,
   "id": "b10c20fd-4513-40d5-a96a-484e3b5e5db0",
   "metadata": {},
   "outputs": [],
   "source": [
    "# shame I cannot read data/*.json\n",
    "dataf = (pl\n",
    "  .read_json(\"data/2324.json\")\n",
    "  .with_columns(\n",
    "    pl.col(\"home_goals\").cast(pl.Int16),\n",
    "    pl.col(\"visitor_goals\").cast(pl.Int16),\n",
    "    pl.col(\"attendance\").str.replace_all(\".\", \"\", literal=True).cast(pl.Int32),\n",
    "  )\n",
    ")"
   ]
  },
  {
   "cell_type": "code",
   "execution_count": 30,
   "id": "01917849-17ce-4bef-ac33-2a75148aaee2",
   "metadata": {},
   "outputs": [
    {
     "name": "stdout",
     "output_type": "stream",
     "text": [
      "shape: (2, 7)\n",
      "┌─────────────┬──────┬─────────┬────────────┬───────────────┬────────────┬─────────────┐\n",
      "│ dato        ┆ home ┆ visitor ┆ home_goals ┆ visitor_goals ┆ attendance ┆ url         │\n",
      "│ ---         ┆ ---  ┆ ---     ┆ ---        ┆ ---           ┆ ---        ┆ ---         │\n",
      "│ str         ┆ str  ┆ str     ┆ i16        ┆ i16           ┆ i32        ┆ str         │\n",
      "╞═════════════╪══════╪═════════╪════════════╪═══════════════╪════════════╪═════════════╡\n",
      "│ 30/07 18.00 ┆ BIF  ┆ OB      ┆ 1          ┆ 2             ┆ 22734      ┆ /kampe/6471 │\n",
      "│ 13/08 16.00 ┆ BIF  ┆ LBK     ┆ 3          ┆ 0             ┆ 20108      ┆ /kampe/6483 │\n",
      "└─────────────┴──────┴─────────┴────────────┴───────────────┴────────────┴─────────────┘\n"
     ]
    }
   ],
   "source": [
    "print((dataf\n",
    "       .filter(pl.col(\"home\") == \"BIF\")\n",
    "      )\n",
    ")"
   ]
  },
  {
   "cell_type": "code",
   "execution_count": null,
   "id": "0923f375-77b9-46e1-aae7-3979bf6ec159",
   "metadata": {},
   "outputs": [],
   "source": []
  }
 ],
 "metadata": {
  "kernelspec": {
   "display_name": "mpira",
   "language": "python",
   "name": "mpira"
  },
  "language_info": {
   "codemirror_mode": {
    "name": "ipython",
    "version": 3
   },
   "file_extension": ".py",
   "mimetype": "text/x-python",
   "name": "python",
   "nbconvert_exporter": "python",
   "pygments_lexer": "ipython3",
   "version": "3.12.6"
  }
 },
 "nbformat": 4,
 "nbformat_minor": 5
}
